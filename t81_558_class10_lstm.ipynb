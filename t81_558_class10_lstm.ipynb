{
 "cells": [
  {
   "cell_type": "markdown",
   "metadata": {},
   "source": [
    "# T81-558: Applications of Deep Neural Networks\n",
    "**Class 10: Recurrent and LSTM Networks**\n",
    "* Instructor: [Jeff Heaton](https://sites.wustl.edu/jeffheaton/), School of Engineering and Applied Science, [Washington University in St. Louis](https://engineering.wustl.edu/Programs/Pages/default.aspx)\n",
    "* For more information visit the [class website](https://sites.wustl.edu/jeffheaton/t81-558/)."
   ]
  },
  {
   "cell_type": "markdown",
   "metadata": {},
   "source": [
    "# Helpful Functions\n",
    "\n",
    "These are exactly the same feature vector encoding functions from [Class 3](https://github.com/jeffheaton/t81_558_deep_learning/blob/master/t81_558_class3_training.ipynb).  They must be defined for this class as well.  For more information, refer to class 3."
   ]
  },
  {
   "cell_type": "code",
   "execution_count": 1,
   "metadata": {
    "collapsed": true
   },
   "outputs": [],
   "source": [
    "from sklearn import preprocessing\n",
    "import matplotlib.pyplot as plt\n",
    "import numpy as np\n",
    "import pandas as pd\n",
    "import shutil\n",
    "import os\n",
    "\n",
    "\n",
    "# Encode text values to dummy variables(i.e. [1,0,0],[0,1,0],[0,0,1] for red,green,blue)\n",
    "def encode_text_dummy(df, name):\n",
    "    dummies = pd.get_dummies(df[name])\n",
    "    for x in dummies.columns:\n",
    "        dummy_name = \"{}-{}\".format(name, x)\n",
    "        df[dummy_name] = dummies[x]\n",
    "    df.drop(name, axis=1, inplace=True)\n",
    "\n",
    "\n",
    "# Encode text values to a single dummy variable.  The new columns (which do not replace the old) will have a 1\n",
    "# at every location where the original column (name) matches each of the target_values.  One column is added for\n",
    "# each target value.\n",
    "def encode_text_single_dummy(df, name, target_values):\n",
    "    for tv in target_values:\n",
    "        l = list(df[name].astype(str))\n",
    "        l = [1 if str(x) == str(tv) else 0 for x in l]\n",
    "        name2 = \"{}-{}\".format(name, tv)\n",
    "        df[name2] = l\n",
    "\n",
    "\n",
    "# Encode text values to indexes(i.e. [1],[2],[3] for red,green,blue).\n",
    "def encode_text_index(df, name):\n",
    "    le = preprocessing.LabelEncoder()\n",
    "    df[name] = le.fit_transform(df[name])\n",
    "    return le.classes_\n",
    "\n",
    "\n",
    "# Encode a numeric column as zscores\n",
    "def encode_numeric_zscore(df, name, mean=None, sd=None):\n",
    "    if mean is None:\n",
    "        mean = df[name].mean()\n",
    "\n",
    "    if sd is None:\n",
    "        sd = df[name].std()\n",
    "\n",
    "    df[name] = (df[name] - mean) / sd\n",
    "\n",
    "\n",
    "# Convert all missing values in the specified column to the median\n",
    "def missing_median(df, name):\n",
    "    med = df[name].median()\n",
    "    df[name] = df[name].fillna(med)\n",
    "\n",
    "\n",
    "# Convert all missing values in the specified column to the default\n",
    "def missing_default(df, name, default_value):\n",
    "    df[name] = df[name].fillna(default_value)\n",
    "\n",
    "\n",
    "# Convert a Pandas dataframe to the x,y inputs that TensorFlow needs\n",
    "def to_xy(df, target):\n",
    "    result = []\n",
    "    for x in df.columns:\n",
    "        if x != target:\n",
    "            result.append(x)\n",
    "    # find out the type of the target column.  Is it really this hard? :(\n",
    "    target_type = df[target].dtypes\n",
    "    target_type = target_type[0] if hasattr(target_type, '__iter__') else target_type\n",
    "    # Encode to int for classification, float otherwise. TensorFlow likes 32 bits.\n",
    "    if target_type in (np.int64, np.int32):\n",
    "        # Classification\n",
    "        dummies = pd.get_dummies(df[target])\n",
    "        return df.as_matrix(result).astype(np.float32), dummies.as_matrix().astype(np.float32)\n",
    "    else:\n",
    "        # Regression\n",
    "        return df.as_matrix(result).astype(np.float32), df.as_matrix([target]).astype(np.float32)\n",
    "\n",
    "# Nicely formatted time string\n",
    "def hms_string(sec_elapsed):\n",
    "    h = int(sec_elapsed / (60 * 60))\n",
    "    m = int((sec_elapsed % (60 * 60)) / 60)\n",
    "    s = sec_elapsed % 60\n",
    "    return \"{}:{:>02}:{:>05.2f}\".format(h, m, s)\n",
    "\n",
    "\n",
    "# Regression chart.\n",
    "def chart_regression(pred,y,sort=True):\n",
    "    t = pd.DataFrame({'pred' : pred, 'y' : y.flatten()})\n",
    "    if sort:\n",
    "        t.sort_values(by=['y'],inplace=True)\n",
    "    a = plt.plot(t['y'].tolist(),label='expected')\n",
    "    b = plt.plot(t['pred'].tolist(),label='prediction')\n",
    "    plt.ylabel('output')\n",
    "    plt.legend()\n",
    "    plt.show()\n",
    "\n",
    "# Remove all rows where the specified column is +/- sd standard deviations\n",
    "def remove_outliers(df, name, sd):\n",
    "    drop_rows = df.index[(np.abs(df[name] - df[name].mean()) >= (sd * df[name].std()))]\n",
    "    df.drop(drop_rows, axis=0, inplace=True)\n",
    "\n",
    "\n",
    "# Encode a column to a range between normalized_low and normalized_high.\n",
    "def encode_numeric_range(df, name, normalized_low=-1, normalized_high=1,\n",
    "                         data_low=None, data_high=None):\n",
    "    if data_low is None:\n",
    "        data_low = min(df[name])\n",
    "        data_high = max(df[name])\n",
    "\n",
    "    df[name] = ((df[name] - data_low) / (data_high - data_low)) \\\n",
    "               * (normalized_high - normalized_low) + normalized_low"
   ]
  },
  {
   "cell_type": "markdown",
   "metadata": {},
   "source": [
    "# Data Structure for Recurrent Neural Networks\n",
    "\n",
    "Previously we trained neural networks with input ($x$) and expected output ($y$).  $X$ was a matrix, the rows were training examples and the columns were values to be predicted.  The definition of $x$ will be expanded and y will stay the same.\n",
    "\n",
    "Dimensions of training set ($x$):\n",
    "* Axis 1: Training set elements (sequences) (must be of the same size as $y$ size)\n",
    "* Axis 2: Members of sequence\n",
    "* Axis 3: Features in data (like input neurons)\n",
    "\n",
    "Previously, we might take as input a single stock price, to predict if we should buy (1), sell (-1), or hold (0)."
   ]
  },
  {
   "cell_type": "code",
   "execution_count": 2,
   "metadata": {
    "collapsed": false
   },
   "outputs": [
    {
     "name": "stdout",
     "output_type": "stream",
     "text": [
      "[[32], [41], [39], [20], [15]]\n",
      "[1, -1, 0, -1, 1]\n"
     ]
    }
   ],
   "source": [
    "# \n",
    "\n",
    "x = [\n",
    "    [32],\n",
    "    [41],\n",
    "    [39],\n",
    "    [20],\n",
    "    [15]\n",
    "]\n",
    "\n",
    "y = [\n",
    "    1,\n",
    "    -1,\n",
    "    0,\n",
    "    -1,\n",
    "    1\n",
    "]\n",
    "\n",
    "print(x)\n",
    "print(y)"
   ]
  },
  {
   "cell_type": "markdown",
   "metadata": {},
   "source": [
    "This is essentially building a CSV file from scratch, to see it as a data frame, use the following:"
   ]
  },
  {
   "cell_type": "code",
   "execution_count": 3,
   "metadata": {
    "collapsed": false,
    "scrolled": true
   },
   "outputs": [
    {
     "name": "stdout",
     "output_type": "stream",
     "text": [
      "[32 41 39 20 15]\n"
     ]
    },
    {
     "data": {
      "text/html": [
       "<div>\n",
       "<style>\n",
       "    .dataframe thead tr:only-child th {\n",
       "        text-align: right;\n",
       "    }\n",
       "\n",
       "    .dataframe thead th {\n",
       "        text-align: left;\n",
       "    }\n",
       "\n",
       "    .dataframe tbody tr th {\n",
       "        vertical-align: top;\n",
       "    }\n",
       "</style>\n",
       "<table border=\"1\" class=\"dataframe\">\n",
       "  <thead>\n",
       "    <tr style=\"text-align: right;\">\n",
       "      <th></th>\n",
       "      <th>x</th>\n",
       "      <th>y</th>\n",
       "    </tr>\n",
       "  </thead>\n",
       "  <tbody>\n",
       "    <tr>\n",
       "      <th>0</th>\n",
       "      <td>32</td>\n",
       "      <td>1</td>\n",
       "    </tr>\n",
       "    <tr>\n",
       "      <th>1</th>\n",
       "      <td>41</td>\n",
       "      <td>-1</td>\n",
       "    </tr>\n",
       "    <tr>\n",
       "      <th>2</th>\n",
       "      <td>39</td>\n",
       "      <td>0</td>\n",
       "    </tr>\n",
       "    <tr>\n",
       "      <th>3</th>\n",
       "      <td>20</td>\n",
       "      <td>-1</td>\n",
       "    </tr>\n",
       "    <tr>\n",
       "      <th>4</th>\n",
       "      <td>15</td>\n",
       "      <td>1</td>\n",
       "    </tr>\n",
       "  </tbody>\n",
       "</table>\n",
       "</div>"
      ],
      "text/plain": [
       "    x  y\n",
       "0  32  1\n",
       "1  41 -1\n",
       "2  39  0\n",
       "3  20 -1\n",
       "4  15  1"
      ]
     },
     "metadata": {},
     "output_type": "display_data"
    }
   ],
   "source": [
    "from IPython.display import display, HTML\n",
    "import pandas as pd\n",
    "import numpy as np\n",
    "\n",
    "x = np.array(x)\n",
    "print(x[:,0])\n",
    "\n",
    "\n",
    "df = pd.DataFrame({'x':x[:,0], 'y':y})\n",
    "display(df)"
   ]
  },
  {
   "cell_type": "markdown",
   "metadata": {},
   "source": [
    "You might want to put volume in with the stock price.  "
   ]
  },
  {
   "cell_type": "code",
   "execution_count": 4,
   "metadata": {
    "collapsed": false
   },
   "outputs": [
    {
     "name": "stdout",
     "output_type": "stream",
     "text": [
      "[[32, 1383], [41, 2928], [39, 8823], [20, 1252], [15, 1532]]\n",
      "[1, -1, 0, -1, 1]\n"
     ]
    }
   ],
   "source": [
    "x = [\n",
    "    [32,1383],\n",
    "    [41,2928],\n",
    "    [39,8823],\n",
    "    [20,1252],\n",
    "    [15,1532]\n",
    "]\n",
    "\n",
    "y = [\n",
    "    1,\n",
    "    -1,\n",
    "    0,\n",
    "    -1,\n",
    "    1\n",
    "]\n",
    "\n",
    "print(x)\n",
    "print(y)"
   ]
  },
  {
   "cell_type": "markdown",
   "metadata": {
    "collapsed": true
   },
   "source": [
    "Again, very similar to what we did before.  The following shows this as a data frame."
   ]
  },
  {
   "cell_type": "code",
   "execution_count": 5,
   "metadata": {
    "collapsed": false
   },
   "outputs": [
    {
     "name": "stdout",
     "output_type": "stream",
     "text": [
      "[32 41 39 20 15]\n"
     ]
    },
    {
     "data": {
      "text/html": [
       "<div>\n",
       "<style>\n",
       "    .dataframe thead tr:only-child th {\n",
       "        text-align: right;\n",
       "    }\n",
       "\n",
       "    .dataframe thead th {\n",
       "        text-align: left;\n",
       "    }\n",
       "\n",
       "    .dataframe tbody tr th {\n",
       "        vertical-align: top;\n",
       "    }\n",
       "</style>\n",
       "<table border=\"1\" class=\"dataframe\">\n",
       "  <thead>\n",
       "    <tr style=\"text-align: right;\">\n",
       "      <th></th>\n",
       "      <th>price</th>\n",
       "      <th>volume</th>\n",
       "      <th>y</th>\n",
       "    </tr>\n",
       "  </thead>\n",
       "  <tbody>\n",
       "    <tr>\n",
       "      <th>0</th>\n",
       "      <td>32</td>\n",
       "      <td>1383</td>\n",
       "      <td>1</td>\n",
       "    </tr>\n",
       "    <tr>\n",
       "      <th>1</th>\n",
       "      <td>41</td>\n",
       "      <td>2928</td>\n",
       "      <td>-1</td>\n",
       "    </tr>\n",
       "    <tr>\n",
       "      <th>2</th>\n",
       "      <td>39</td>\n",
       "      <td>8823</td>\n",
       "      <td>0</td>\n",
       "    </tr>\n",
       "    <tr>\n",
       "      <th>3</th>\n",
       "      <td>20</td>\n",
       "      <td>1252</td>\n",
       "      <td>-1</td>\n",
       "    </tr>\n",
       "    <tr>\n",
       "      <th>4</th>\n",
       "      <td>15</td>\n",
       "      <td>1532</td>\n",
       "      <td>1</td>\n",
       "    </tr>\n",
       "  </tbody>\n",
       "</table>\n",
       "</div>"
      ],
      "text/plain": [
       "   price  volume  y\n",
       "0     32    1383  1\n",
       "1     41    2928 -1\n",
       "2     39    8823  0\n",
       "3     20    1252 -1\n",
       "4     15    1532  1"
      ]
     },
     "metadata": {},
     "output_type": "display_data"
    }
   ],
   "source": [
    "from IPython.display import display, HTML\n",
    "import pandas as pd\n",
    "import numpy as np\n",
    "\n",
    "x = np.array(x)\n",
    "print(x[:,0])\n",
    "\n",
    "\n",
    "df = pd.DataFrame({'price':x[:,0], 'volume':x[:,1], 'y':y})\n",
    "display(df)"
   ]
  },
  {
   "cell_type": "markdown",
   "metadata": {},
   "source": [
    "Now we get to sequence format.  We want to predict something over a sequence, so the data format needs to add a dimension.  A maximum sequence length must be specified, but the individual sequences can be of any length."
   ]
  },
  {
   "cell_type": "code",
   "execution_count": 6,
   "metadata": {
    "collapsed": false
   },
   "outputs": [
    {
     "name": "stdout",
     "output_type": "stream",
     "text": [
      "[[[32, 1383], [41, 2928], [39, 8823], [20, 1252], [15, 1532]], [[35, 8272], [32, 1383], [41, 2928], [39, 8823], [20, 1252]], [[37, 2738], [35, 8272], [32, 1383], [41, 2928], [39, 8823]], [[34, 2845], [37, 2738], [35, 8272], [32, 1383], [41, 2928]], [[32, 2345], [34, 2845], [37, 2738], [35, 8272], [32, 1383]]]\n",
      "[1, -1, 0, -1, 1]\n"
     ]
    }
   ],
   "source": [
    "x = [\n",
    "    [[32,1383],[41,2928],[39,8823],[20,1252],[15,1532]],\n",
    "    [[35,8272],[32,1383],[41,2928],[39,8823],[20,1252]],\n",
    "    [[37,2738],[35,8272],[32,1383],[41,2928],[39,8823]],\n",
    "    [[34,2845],[37,2738],[35,8272],[32,1383],[41,2928]],\n",
    "    [[32,2345],[34,2845],[37,2738],[35,8272],[32,1383]],\n",
    "]\n",
    "\n",
    "y = [\n",
    "    1,\n",
    "    -1,\n",
    "    0,\n",
    "    -1,\n",
    "    1\n",
    "]\n",
    "\n",
    "print(x)\n",
    "print(y)"
   ]
  },
  {
   "cell_type": "markdown",
   "metadata": {},
   "source": [
    "Even if there is only one feature (price), the 3rd dimension must be used:"
   ]
  },
  {
   "cell_type": "code",
   "execution_count": 7,
   "metadata": {
    "collapsed": false
   },
   "outputs": [
    {
     "name": "stdout",
     "output_type": "stream",
     "text": [
      "[[[32], [41], [39], [20], [15]], [[35], [32], [41], [39], [20]], [[37], [35], [32], [41], [39]], [[34], [37], [35], [32], [41]], [[32], [34], [37], [35], [32]]]\n",
      "[1, -1, 0, -1, 1]\n"
     ]
    }
   ],
   "source": [
    "x = [\n",
    "    [[32],[41],[39],[20],[15]],\n",
    "    [[35],[32],[41],[39],[20]],\n",
    "    [[37],[35],[32],[41],[39]],\n",
    "    [[34],[37],[35],[32],[41]],\n",
    "    [[32],[34],[37],[35],[32]],\n",
    "]\n",
    "\n",
    "y = [\n",
    "    1,\n",
    "    -1,\n",
    "    0,\n",
    "    -1,\n",
    "    1\n",
    "]\n",
    "\n",
    "print(x)\n",
    "print(y)"
   ]
  },
  {
   "cell_type": "markdown",
   "metadata": {},
   "source": [
    "# Recurrent Neural Networks\n",
    "\n",
    "So far the neural networks that we’ve examined have always had forward connections.  The input layer always connects to the first hidden layer.  Each hidden layer always connects to the next hidden layer.  The final hidden layer always connects to the output layer.  This manner to connect layers is the reason that these networks are called “feedforward.”  Recurrent neural networks are not so rigid, as backward connections are also allowed. A recurrent connection links a neuron in a layer to either a previous layer or the neuron itself.  Most recurrent neural network architectures maintain state in the recurrent connections.  Feedforward neural networks don’t maintain any state.  A recurrent neural network’s state acts as a sort of short-term memory for the neural network.  Consequently, a recurrent neural network will not always produce the same output for a given input.\n",
    "\n",
    "Recurrent neural networks do not force the connections to flow only from one layer to the next, from input layer to output layer.  A recurrent connection occurs when a connection is formed between a neuron and one of the following other types of neurons:\n",
    "\n",
    "* The neuron itself\n",
    "* A neuron on the same level\n",
    "* A neuron on a previous level\n",
    "\n",
    "Recurrent connections can never target the input neurons or the bias neurons.  \n",
    "The processing of recurrent connections can be challenging. Because the recurrent links create endless loops, the neural network must have some way to know when to stop.  A neural network that entered an endless loop would not be useful.  To prevent endless loops, we can calculate the recurrent connections with the following three approaches:\n",
    "\n",
    "* Context neurons\n",
    "* Calculating output over a fixed number of iterations\n",
    "* Calculating output until neuron output stabilizes\n",
    "\n",
    "We refer to neural networks that use context neurons as a simple recurrent network (SRN).  The context neuron is a special neuron type that remembers its input and provides that input as its output the next time that we calculate the network.  For example, if we gave a context neuron 0.5 as input, it would output 0.  Context neurons always output 0 on their first call.  However, if we gave the context neuron a 0.6 as input, the output would be 0.5.  We never weight the input connections to a context neuron, but we can weight the output from a context neuron just like any other connection in a network.  \n",
    "\n",
    "Context neurons allow us to calculate a neural network in a single feedforward pass.  Context neurons usually occur in layers.  A layer of context neurons will always have the same number of context neurons as neurons in its source layer, as demonstrated here:\n",
    "\n",
    "![Context Layers](https://raw.githubusercontent.com/jeffheaton/t81_558_deep_learning/master/images/class_10_context_layer.png \"Context Layers\")\n",
    "\n",
    "As you can see from the above layer, two hidden neurons that are labeled hidden 1 and hidden 2 directly connect to the two context neurons.  The dashed lines on these connections indicate that these are not weighted connections. These weightless connections are never dense.  If these connections were dense, hidden 1 would be connected to both hidden 1 and hidden 2.  However, the direct connection simply joins each hidden neuron to its corresponding context neuron.  The two context neurons form dense, weighted connections to the two hidden neurons.  Finally, the two hidden neurons also form dense connections to the neurons in the next layer.  The two context neurons would form two connections to a single neuron in the next layer, four connections to two neurons, six connections to three neurons, and so on.\n",
    "\n",
    "You can combine context neurons with the input, hidden, and output layers of a neural network in many different ways.  In the next two sections, we explore two common SRN architectures.\n",
    "\n",
    "In 1990, Elman introduced a neural network that provides pattern recognition to time series.  This neural network type has one input neuron for each stream that you are using to predict.  There is one output neuron for each time slice you are trying to predict.  A single-hidden layer is positioned between the input and output layer.  A layer of context neurons takes its input from the hidden layer output and feeds back into the same hidden layer.  Consequently, the context layers always have the same number of neurons as the hidden layer, as demonstrated here:  \n",
    "\n",
    "![Elman Neural Network](https://raw.githubusercontent.com/jeffheaton/t81_558_deep_learning/master/images/class_10_elman.png \"Elman Neural Network\")\n",
    "\n",
    "The Elman neural network is a good general-purpose architecture for simple recurrent neural networks.  You can pair any reasonable number of input neurons to any number of output neurons.  Using normal weighted connections, the two context neurons are fully connected with the two hidden neurons.  The two context neurons receive their state from the two non-weighted connections (dashed lines) from each of the two hidden neurons.\n",
    "\n",
    "Backpropagation through time works by unfolding the SRN to become a regular neural network.  To unfold the SRN, we construct a chain of neural networks equal to how far back in time we wish to go.  We start with a neural network that contains the inputs for the current time, known as t.  Next we replace the context with the entire neural network, up to the context neuron’s input.  We continue for the desired number of time slices and replace the final context neuron with a 0.  The following diagram shows an unfolded Elman neural network for two time slices.\n",
    "\n",
    "![Unfolding the Elman Neural Network](https://raw.githubusercontent.com/jeffheaton/t81_558_deep_learning/master/images/class_10_elman_unfold.png \"Unfolding the Elman Neural Network\")\n",
    "\n",
    "As you can see, there are inputs for both t (current time) and t-1 (one time slice in the past).  The bottom neural network stops at the hidden neurons because you don’t need everything beyond the hidden neurons to calculate the context input.  The bottom network structure becomes the context to the top network structure.  Of course, the bottom structure would have had a context as well that connects to its hidden neurons.  However, because the output neuron above does not contribute to the context, only the top network (current time) has one.\n"
   ]
  },
  {
   "cell_type": "markdown",
   "metadata": {},
   "source": [
    "# Understanding LSTM\n",
    "\n",
    "Some useful resources on LSTM/recurrent neural networks.\n",
    "\n",
    "* [Understanding LSTM Networks](http://colah.github.io/posts/2015-08-Understanding-LSTMs/)\n",
    "* [Recurrent Neural Networks in TensorFlow](https://www.tensorflow.org/versions/r0.11/tutorials/recurrent/index.html)\n",
    "\n",
    "Long Short Term Neural Network (LSTM) are a type of recurrent unit that is often used with deep neural networks.  For TensorFlow, LSTM can be thought of as a layer type that can be combined with other layer types, such as dense.  LSTM makes use two transfer function types internally.  \n",
    "\n",
    "The first type of transfer function is the sigmoid.  This transfer function type is used form gates inside of the unit.  The sigmoid transfer function is given by the following equation:\n",
    "\n",
    "$$ \\text{S}(t) = \\frac{1}{1 + e^{-t}} $$\n",
    "\n",
    "The second type of transfer function is the hyperbolic tangent (tanh) function.  This function is used to scale the output of the LSTM, similarly to how other transfer functions have been used in this course.  \n",
    "\n",
    "The graphs for these functions are shown here:"
   ]
  },
  {
   "cell_type": "code",
   "execution_count": 8,
   "metadata": {
    "collapsed": false
   },
   "outputs": [
    {
     "name": "stdout",
     "output_type": "stream",
     "text": [
      "Sigmoid\n"
     ]
    },
    {
     "data": {
      "image/png": "[encoded data removed]",
      "text/plain": [
       "<matplotlib.figure.Figure at 0x285fb9c8908>"
      ]
     },
     "metadata": {},
     "output_type": "display_data"
    },
    {
     "name": "stdout",
     "output_type": "stream",
     "text": [
      "Hyperbolic Tangent(tanh)\n"
     ]
    },
    {
     "data": {
      "image/png": "[encoded data removed]",
      "text/plain": [
       "<matplotlib.figure.Figure at 0x285fbe445f8>"
      ]
     },
     "metadata": {},
     "output_type": "display_data"
    }
   ],
   "source": [
    "%matplotlib inline\n",
    "\n",
    "import matplotlib\n",
    "import numpy as np\n",
    "import matplotlib.pyplot as plt\n",
    "import math\n",
    "\n",
    "def sigmoid(x):\n",
    "    a = []\n",
    "    for item in x:\n",
    "        a.append(1/(1+math.exp(-item)))\n",
    "    return a\n",
    "\n",
    "def f2(x):\n",
    "    a = []\n",
    "    for item in x:\n",
    "        a.append(math.tanh(item))\n",
    "    return a\n",
    "\n",
    "x = np.arange(-10., 10., 0.2)\n",
    "y1 = sigmoid(x)\n",
    "y2 = f2(x)\n",
    "\n",
    "print(\"Sigmoid\")\n",
    "plt.plot(x,y1)\n",
    "plt.show()\n",
    "\n",
    "print(\"Hyperbolic Tangent(tanh)\")\n",
    "plt.plot(x,y2)\n",
    "plt.show()"
   ]
  },
  {
   "cell_type": "markdown",
   "metadata": {
    "collapsed": true
   },
   "source": [
    "Both of these two functions compress their output to a specific range.  For the sigmoid function, this range is 0 to 1.  For the hyperbolic tangent function, this range is -1 to 1.\n",
    "\n",
    "LSTM maintains an internal state and produces an output.  The following diagram shows an LSTM unit over three time slices: the current time slice (t), as well as the previous (t-1) and next (t+1) slice:\n",
    "\n",
    "![LSTM Layers](https://raw.githubusercontent.com/jeffheaton/t81_558_deep_learning/master/images/class_10_lstm1.png \"LSTM Layers\")\n",
    "\n",
    "The values $\\hat{y}$ are the output from the unit, the values ($x$) are the input to the unit and the values $c$ are the context values.  Both the output and context values are always fed to the next time slice.  The context values allow \n",
    "\n",
    "![LSTM Layers](https://raw.githubusercontent.com/jeffheaton/t81_558_deep_learning/master/images/class_10_lstm2.png \"Inside the LSTM\")\n",
    "\n",
    "LSTM is made up of three gates:\n",
    "\n",
    "* Forget Gate (f_t) - Controls if/when the context is forgotten. (MC)\n",
    "* Input Gate (i_t) - Controls if/when a value should be remembered by the context. (M+/MS)\n",
    "* Output Gate (o_t) - Controls if/when the remembered value is allowed to pass from the unit. (RM)\n",
    "\n",
    "Mathematically, the above diagram can be thought of as the following:\n",
    "\n",
    "**These are vector values.**\n",
    "\n",
    "First, calculate the forget gate value.  This gate determines if the short term memory is forgotten.  The value $b$ is a bias, just like the bias neurons we saw before.  Except LSTM has a bias for every gate: $b_t$, $b_i$, and $b_o$.\n",
    "\n",
    "$$ f_t = S(W_f \\cdot [\\hat{y}_{t-1}, x_t] + b_f) $$\n",
    "\n",
    "Next, calculate the input gate value. This gate's value determines what will be remembered.\n",
    "\n",
    "$$ i_t = S(W_i \\cdot [\\hat{y}_{t-1},x_t] + b_i) $$\n",
    "\n",
    "Calculate a candidate context value (a value that might be remembered).  This value is called $\\tilde{c}$.\n",
    "\n",
    "$$ \\tilde{C}_t = \\tanh(W_C \\cdot [\\hat{y}_{t-1},x_t]+b_C) $$\n",
    "\n",
    "Determine the new context ($C_t$).  Do this by remembering the candidate context ($i_t$), depending on input gate.  Forget depending on the forget gate ($f_t$). \n",
    "\n",
    "$$ C_t = f_t \\cdot C_{t-1}+i_t \\cdot \\tilde{C}_t $$\n",
    "\n",
    "Calculate the output gate ($o_t$):\n",
    "\n",
    "$$ o_t = S(W_o \\cdot [\\hat{y}_{t-1},x_t] + b_o ) $$\n",
    "\n",
    "Calculate the actual output ($\\hat{y}_t$):\n",
    "\n",
    "$$ \\hat{y}_t = o_t \\cdot \\tanh(C_t) $$\n"
   ]
  },
  {
   "cell_type": "markdown",
   "metadata": {},
   "source": [
    "# Simple TensorFlow LSTM Example\n",
    "\n",
    "The following code creates the LSTM network.  This is an example of RNN classification.  The following code trains on a data set (x) with a max sequence size of 6 (columns) and 6 training elements (rows)"
   ]
  },
  {
   "cell_type": "code",
   "execution_count": 9,
   "metadata": {
    "collapsed": false
   },
   "outputs": [
    {
     "name": "stderr",
     "output_type": "stream",
     "text": [
      "Using TensorFlow backend.\n"
     ]
    },
    {
     "name": "stdout",
     "output_type": "stream",
     "text": [
      "[[ 0.  1.  0.  0.]\n",
      " [ 0.  0.  1.  0.]\n",
      " [ 0.  0.  0.  1.]\n",
      " [ 0.  0.  1.  0.]\n",
      " [ 0.  0.  0.  1.]\n",
      " [ 0.  1.  0.  0.]]\n",
      "Build model...\n"
     ]
    },
    {
     "name": "stderr",
     "output_type": "stream",
     "text": [
      "C:\\Users\\jeffh\\Anaconda3\\envs\\wustl\\lib\\site-packages\\ipykernel_launcher.py:27: UserWarning: The `input_dim` and `input_length` arguments in recurrent layers are deprecated. Use `input_shape` instead.\n",
      "C:\\Users\\jeffh\\Anaconda3\\envs\\wustl\\lib\\site-packages\\ipykernel_launcher.py:27: UserWarning: Update your `LSTM` call to the Keras 2 API: `LSTM(128, dropout=0.2, recurrent_dropout=0.2, input_shape=(None, 1))`\n"
     ]
    },
    {
     "name": "stdout",
     "output_type": "stream",
     "text": [
      "Train...\n",
      "Epoch 1/200\n",
      "6/6 [==============================] - 1s - loss: 0.6970 - acc: 0.4583\n",
      "Epoch 2/200\n",
      "6/6 [==============================] - 0s - loss: 0.6849 - acc: 0.6667\n",
      "Epoch 3/200\n",
      "6/6 [==============================] - 0s - loss: 0.6769 - acc: 0.7083\n",
      "Epoch 4/200\n",
      "6/6 [==============================] - 0s - loss: 0.6728 - acc: 0.7500\n",
      "Epoch 5/200\n",
      "6/6 [==============================] - 0s - loss: 0.6735 - acc: 0.7500\n",
      "Epoch 6/200\n",
      "6/6 [==============================] - 0s - loss: 0.6665 - acc: 0.7083\n",
      "Epoch 7/200\n",
      "6/6 [==============================] - 0s - loss: 0.6588 - acc: 0.7917\n",
      "Epoch 8/200\n",
      "6/6 [==============================] - 0s - loss: 0.6403 - acc: 0.7917\n",
      "Epoch 9/200\n",
      "6/6 [==============================] - 0s - loss: 0.6318 - acc: 0.7917\n",
      "Epoch 10/200\n",
      "6/6 [==============================] - 0s - loss: 0.6491 - acc: 0.7500\n",
      "Epoch 11/200\n",
      "6/6 [==============================] - 0s - loss: 0.6196 - acc: 0.7917\n",
      "Epoch 12/200\n",
      "6/6 [==============================] - 0s - loss: 0.6314 - acc: 0.7500\n",
      "Epoch 13/200\n",
      "6/6 [==============================] - 0s - loss: 0.6017 - acc: 0.7500\n",
      "Epoch 14/200\n",
      "6/6 [==============================] - 0s - loss: 0.5943 - acc: 0.7917\n",
      "Epoch 15/200\n",
      "6/6 [==============================] - 0s - loss: 0.5981 - acc: 0.7500\n",
      "Epoch 16/200\n",
      "6/6 [==============================] - 0s - loss: 0.5789 - acc: 0.7500\n",
      "Epoch 17/200\n",
      "6/6 [==============================] - 0s - loss: 0.5735 - acc: 0.7500\n",
      "Epoch 18/200\n",
      "6/6 [==============================] - 0s - loss: 0.5852 - acc: 0.7500\n",
      "Epoch 19/200\n",
      "6/6 [==============================] - 0s - loss: 0.5523 - acc: 0.7500\n",
      "Epoch 20/200\n",
      "6/6 [==============================] - 0s - loss: 0.5660 - acc: 0.7500\n",
      "Epoch 21/200\n",
      "6/6 [==============================] - 0s - loss: 0.5567 - acc: 0.7500\n",
      "Epoch 22/200\n",
      "6/6 [==============================] - 0s - loss: 0.5532 - acc: 0.7500\n",
      "Epoch 23/200\n",
      "6/6 [==============================] - 0s - loss: 0.5499 - acc: 0.7500\n",
      "Epoch 24/200\n",
      "6/6 [==============================] - 0s - loss: 0.5463 - acc: 0.7500\n",
      "Epoch 25/200\n",
      "6/6 [==============================] - 0s - loss: 0.4957 - acc: 0.7500\n",
      "Epoch 26/200\n",
      "6/6 [==============================] - 0s - loss: 0.5083 - acc: 0.7500\n",
      "Epoch 27/200\n",
      "6/6 [==============================] - 0s - loss: 0.5423 - acc: 0.7500\n",
      "Epoch 28/200\n",
      "6/6 [==============================] - 0s - loss: 0.4844 - acc: 0.7500\n",
      "Epoch 29/200\n",
      "6/6 [==============================] - 0s - loss: 0.4797 - acc: 0.7500\n",
      "Epoch 30/200\n",
      "6/6 [==============================] - 0s - loss: 0.5410 - acc: 0.7500\n",
      "Epoch 31/200\n",
      "6/6 [==============================] - 0s - loss: 0.5087 - acc: 0.7500\n",
      "Epoch 32/200\n",
      "6/6 [==============================] - 0s - loss: 0.4647 - acc: 0.7500\n",
      "Epoch 33/200\n",
      "6/6 [==============================] - 0s - loss: 0.4924 - acc: 0.7500\n",
      "Epoch 34/200\n",
      "6/6 [==============================] - 0s - loss: 0.4938 - acc: 0.7500\n",
      "Epoch 35/200\n",
      "6/6 [==============================] - 0s - loss: 0.4991 - acc: 0.7500\n",
      "Epoch 36/200\n",
      "6/6 [==============================] - 0s - loss: 0.5228 - acc: 0.7500\n",
      "Epoch 37/200\n",
      "6/6 [==============================] - 0s - loss: 0.4777 - acc: 0.7500\n",
      "Epoch 38/200\n",
      "6/6 [==============================] - 0s - loss: 0.4441 - acc: 0.7500\n",
      "Epoch 39/200\n",
      "6/6 [==============================] - 0s - loss: 0.4856 - acc: 0.7500\n",
      "Epoch 40/200\n",
      "6/6 [==============================] - 0s - loss: 0.4972 - acc: 0.7500\n",
      "Epoch 41/200\n",
      "6/6 [==============================] - 0s - loss: 0.4607 - acc: 0.7500\n",
      "Epoch 42/200\n",
      "6/6 [==============================] - 0s - loss: 0.4669 - acc: 0.7500\n",
      "Epoch 43/200\n",
      "6/6 [==============================] - 0s - loss: 0.4292 - acc: 0.7917\n",
      "Epoch 44/200\n",
      "6/6 [==============================] - 0s - loss: 0.4659 - acc: 0.7500\n",
      "Epoch 45/200\n",
      "6/6 [==============================] - 0s - loss: 0.4175 - acc: 0.7500\n",
      "Epoch 46/200\n",
      "6/6 [==============================] - 0s - loss: 0.4327 - acc: 0.7500\n",
      "Epoch 47/200\n",
      "6/6 [==============================] - 0s - loss: 0.4080 - acc: 0.7500\n",
      "Epoch 48/200\n",
      "6/6 [==============================] - 0s - loss: 0.4406 - acc: 0.7500\n",
      "Epoch 49/200\n",
      "6/6 [==============================] - 0s - loss: 0.4210 - acc: 0.8333\n",
      "Epoch 50/200\n",
      "6/6 [==============================] - 0s - loss: 0.4438 - acc: 0.7500\n",
      "Epoch 51/200\n",
      "6/6 [==============================] - 0s - loss: 0.4753 - acc: 0.7917\n",
      "Epoch 52/200\n",
      "6/6 [==============================] - 0s - loss: 0.4092 - acc: 0.7500\n",
      "Epoch 53/200\n",
      "6/6 [==============================] - 0s - loss: 0.3946 - acc: 0.7917\n",
      "Epoch 54/200\n",
      "6/6 [==============================] - 0s - loss: 0.4577 - acc: 0.8333\n",
      "Epoch 55/200\n",
      "6/6 [==============================] - 0s - loss: 0.4246 - acc: 0.7917\n",
      "Epoch 56/200\n",
      "6/6 [==============================] - 0s - loss: 0.3779 - acc: 0.8333\n",
      "Epoch 57/200\n",
      "6/6 [==============================] - 0s - loss: 0.3876 - acc: 0.7500\n",
      "Epoch 58/200\n",
      "6/6 [==============================] - 0s - loss: 0.5250 - acc: 0.6250\n",
      "Epoch 59/200\n",
      "6/6 [==============================] - 0s - loss: 0.3520 - acc: 0.8333\n",
      "Epoch 60/200\n",
      "6/6 [==============================] - 0s - loss: 0.4205 - acc: 0.7500\n",
      "Epoch 61/200\n",
      "6/6 [==============================] - 0s - loss: 0.4652 - acc: 0.7500\n",
      "Epoch 62/200\n",
      "6/6 [==============================] - 0s - loss: 0.3530 - acc: 0.7917\n",
      "Epoch 63/200\n",
      "6/6 [==============================] - 0s - loss: 0.3493 - acc: 0.8333\n",
      "Epoch 64/200\n",
      "6/6 [==============================] - 0s - loss: 0.3370 - acc: 0.8333\n",
      "Epoch 65/200\n",
      "6/6 [==============================] - 0s - loss: 0.4496 - acc: 0.6667\n",
      "Epoch 66/200\n",
      "6/6 [==============================] - 0s - loss: 0.4163 - acc: 0.7917\n",
      "Epoch 67/200\n",
      "6/6 [==============================] - 0s - loss: 0.3494 - acc: 0.7917\n",
      "Epoch 68/200\n",
      "6/6 [==============================] - 0s - loss: 0.3242 - acc: 0.8333\n",
      "Epoch 69/200\n",
      "6/6 [==============================] - 0s - loss: 0.4084 - acc: 0.7083\n",
      "Epoch 70/200\n",
      "6/6 [==============================] - 0s - loss: 0.3939 - acc: 0.8333\n",
      "Epoch 71/200\n",
      "6/6 [==============================] - 0s - loss: 0.3285 - acc: 0.8750\n",
      "Epoch 72/200\n",
      "6/6 [==============================] - 0s - loss: 0.4283 - acc: 0.7500\n",
      "Epoch 73/200\n",
      "6/6 [==============================] - 0s - loss: 0.3975 - acc: 0.8333\n",
      "Epoch 74/200\n",
      "6/6 [==============================] - 0s - loss: 0.4280 - acc: 0.7917\n",
      "Epoch 75/200\n",
      "6/6 [==============================] - 0s - loss: 0.3998 - acc: 0.8750\n",
      "Epoch 76/200\n",
      "6/6 [==============================] - 0s - loss: 0.4045 - acc: 0.8333\n",
      "Epoch 77/200\n",
      "6/6 [==============================] - 0s - loss: 0.3509 - acc: 0.7917\n",
      "Epoch 78/200\n",
      "6/6 [==============================] - 0s - loss: 0.3970 - acc: 0.7917\n",
      "Epoch 79/200\n",
      "6/6 [==============================] - 0s - loss: 0.3892 - acc: 0.8333\n",
      "Epoch 80/200\n",
      "6/6 [==============================] - 0s - loss: 0.3133 - acc: 0.8750\n",
      "Epoch 81/200\n",
      "6/6 [==============================] - 0s - loss: 0.3805 - acc: 0.8333\n",
      "Epoch 82/200\n",
      "6/6 [==============================] - 0s - loss: 0.2835 - acc: 0.9167\n",
      "Epoch 83/200\n",
      "6/6 [==============================] - 0s - loss: 0.3309 - acc: 0.9167\n",
      "Epoch 84/200\n",
      "6/6 [==============================] - 0s - loss: 0.2869 - acc: 0.9167\n",
      "Epoch 85/200\n",
      "6/6 [==============================] - 0s - loss: 0.3874 - acc: 0.8750\n",
      "Epoch 86/200\n",
      "6/6 [==============================] - 0s - loss: 0.4168 - acc: 0.8333\n",
      "Epoch 87/200\n",
      "6/6 [==============================] - 0s - loss: 0.3609 - acc: 0.8750\n",
      "Epoch 88/200\n",
      "6/6 [==============================] - 0s - loss: 0.2873 - acc: 0.9167\n",
      "Epoch 89/200\n",
      "6/6 [==============================] - 0s - loss: 0.5084 - acc: 0.6667\n",
      "Epoch 90/200\n",
      "6/6 [==============================] - 0s - loss: 0.3749 - acc: 0.7500\n",
      "Epoch 91/200\n",
      "6/6 [==============================] - 0s - loss: 0.3660 - acc: 0.7917\n",
      "Epoch 92/200\n",
      "6/6 [==============================] - 0s - loss: 0.2888 - acc: 0.8333\n",
      "Epoch 93/200\n",
      "6/6 [==============================] - 0s - loss: 0.3375 - acc: 0.8750\n",
      "Epoch 94/200\n",
      "6/6 [==============================] - 0s - loss: 0.2272 - acc: 0.9583\n",
      "Epoch 95/200\n",
      "6/6 [==============================] - 0s - loss: 0.2654 - acc: 0.9583\n",
      "Epoch 96/200\n",
      "6/6 [==============================] - 0s - loss: 0.2685 - acc: 0.9583\n",
      "Epoch 97/200\n",
      "6/6 [==============================] - 0s - loss: 0.2389 - acc: 0.9583\n",
      "Epoch 98/200\n",
      "6/6 [==============================] - 0s - loss: 0.4081 - acc: 0.8333\n",
      "Epoch 99/200\n",
      "6/6 [==============================] - 0s - loss: 0.4048 - acc: 0.7917\n",
      "Epoch 100/200\n",
      "6/6 [==============================] - 0s - loss: 0.2611 - acc: 0.9167\n",
      "Epoch 101/200\n",
      "6/6 [==============================] - 0s - loss: 0.5231 - acc: 0.7500\n",
      "Epoch 102/200\n",
      "6/6 [==============================] - 0s - loss: 0.2793 - acc: 0.8750\n",
      "Epoch 103/200\n",
      "6/6 [==============================] - 0s - loss: 0.4019 - acc: 0.8333\n",
      "Epoch 104/200\n",
      "6/6 [==============================] - 0s - loss: 0.2594 - acc: 0.9583\n",
      "Epoch 105/200\n",
      "6/6 [==============================] - 0s - loss: 0.3853 - acc: 0.8333\n",
      "Epoch 106/200\n",
      "6/6 [==============================] - 0s - loss: 0.2763 - acc: 0.8333\n",
      "Epoch 107/200\n",
      "6/6 [==============================] - 0s - loss: 0.3625 - acc: 0.7500\n",
      "Epoch 108/200\n",
      "6/6 [==============================] - 0s - loss: 0.2770 - acc: 0.8750\n",
      "Epoch 109/200\n",
      "6/6 [==============================] - 0s - loss: 0.2364 - acc: 0.9583\n",
      "Epoch 110/200\n",
      "6/6 [==============================] - 0s - loss: 0.2492 - acc: 0.9583\n",
      "Epoch 111/200\n",
      "6/6 [==============================] - 0s - loss: 0.2812 - acc: 0.9583\n",
      "Epoch 112/200\n",
      "6/6 [==============================] - 0s - loss: 0.3294 - acc: 0.8750\n",
      "Epoch 113/200\n",
      "6/6 [==============================] - 0s - loss: 0.2673 - acc: 0.9583\n",
      "Epoch 114/200\n",
      "6/6 [==============================] - 0s - loss: 0.2363 - acc: 0.9583\n",
      "Epoch 115/200\n",
      "6/6 [==============================] - 0s - loss: 0.5150 - acc: 0.7917\n",
      "Epoch 116/200\n",
      "6/6 [==============================] - 0s - loss: 0.2231 - acc: 0.9167\n",
      "Epoch 117/200\n",
      "6/6 [==============================] - 0s - loss: 0.2184 - acc: 0.9583\n",
      "Epoch 118/200\n",
      "6/6 [==============================] - 0s - loss: 0.2268 - acc: 0.9583\n",
      "Epoch 119/200\n",
      "6/6 [==============================] - 0s - loss: 0.4859 - acc: 0.7500\n",
      "Epoch 120/200\n",
      "6/6 [==============================] - 0s - loss: 0.2711 - acc: 0.9167\n",
      "Epoch 121/200\n",
      "6/6 [==============================] - 0s - loss: 0.2214 - acc: 0.9167\n",
      "Epoch 122/200\n",
      "6/6 [==============================] - 0s - loss: 0.1933 - acc: 0.9167\n",
      "Epoch 123/200\n",
      "6/6 [==============================] - 0s - loss: 0.3515 - acc: 0.8333\n",
      "Epoch 124/200\n",
      "6/6 [==============================] - 0s - loss: 0.2365 - acc: 0.8750\n",
      "Epoch 125/200\n",
      "6/6 [==============================] - 0s - loss: 0.3726 - acc: 0.8333\n",
      "Epoch 126/200\n",
      "6/6 [==============================] - 0s - loss: 0.1878 - acc: 0.9583\n",
      "Epoch 127/200\n",
      "6/6 [==============================] - 0s - loss: 0.1732 - acc: 0.9583\n",
      "Epoch 128/200\n",
      "6/6 [==============================] - 0s - loss: 0.2095 - acc: 0.9167\n",
      "Epoch 129/200\n",
      "6/6 [==============================] - 0s - loss: 0.2395 - acc: 0.9167\n",
      "Epoch 130/200\n",
      "6/6 [==============================] - 0s - loss: 0.3002 - acc: 0.8333\n",
      "Epoch 131/200\n",
      "6/6 [==============================] - 0s - loss: 0.3569 - acc: 0.8750\n",
      "Epoch 132/200\n",
      "6/6 [==============================] - 0s - loss: 0.4054 - acc: 0.8333\n",
      "Epoch 133/200\n",
      "6/6 [==============================] - 0s - loss: 0.2040 - acc: 0.9583\n",
      "Epoch 134/200\n",
      "6/6 [==============================] - 0s - loss: 0.5188 - acc: 0.7500\n",
      "Epoch 135/200\n",
      "6/6 [==============================] - 0s - loss: 0.2096 - acc: 0.9167\n",
      "Epoch 136/200\n",
      "6/6 [==============================] - 0s - loss: 0.1734 - acc: 0.9167\n",
      "Epoch 137/200\n",
      "6/6 [==============================] - 0s - loss: 0.2359 - acc: 0.9167\n",
      "Epoch 138/200\n",
      "6/6 [==============================] - 0s - loss: 0.1883 - acc: 0.9583\n",
      "Epoch 139/200\n",
      "6/6 [==============================] - 0s - loss: 0.1974 - acc: 0.9167\n",
      "Epoch 140/200\n",
      "6/6 [==============================] - 0s - loss: 0.3497 - acc: 0.8750\n",
      "Epoch 141/200\n",
      "6/6 [==============================] - 0s - loss: 0.2257 - acc: 0.8750\n",
      "Epoch 142/200\n",
      "6/6 [==============================] - 0s - loss: 0.2868 - acc: 0.8750\n",
      "Epoch 143/200\n",
      "6/6 [==============================] - 0s - loss: 0.4881 - acc: 0.7500\n",
      "Epoch 144/200\n",
      "6/6 [==============================] - 0s - loss: 0.1573 - acc: 0.9583\n",
      "Epoch 145/200\n",
      "6/6 [==============================] - 0s - loss: 0.2533 - acc: 0.9167\n",
      "Epoch 146/200\n",
      "6/6 [==============================] - 0s - loss: 0.2348 - acc: 0.9167\n",
      "Epoch 147/200\n",
      "6/6 [==============================] - 0s - loss: 0.1682 - acc: 0.9583\n",
      "Epoch 148/200\n",
      "6/6 [==============================] - 0s - loss: 0.1627 - acc: 0.9583\n",
      "Epoch 149/200\n",
      "6/6 [==============================] - 0s - loss: 0.1889 - acc: 0.9583\n",
      "Epoch 150/200\n",
      "6/6 [==============================] - 0s - loss: 0.1871 - acc: 0.9167\n",
      "Epoch 151/200\n",
      "6/6 [==============================] - 0s - loss: 0.3297 - acc: 0.8750\n",
      "Epoch 152/200\n",
      "6/6 [==============================] - 0s - loss: 0.2011 - acc: 0.9167\n",
      "Epoch 153/200\n",
      "6/6 [==============================] - 0s - loss: 0.1913 - acc: 0.9583\n",
      "Epoch 154/200\n",
      "6/6 [==============================] - 0s - loss: 0.1449 - acc: 0.9583\n",
      "Epoch 155/200\n",
      "6/6 [==============================] - 0s - loss: 0.3037 - acc: 0.8333\n",
      "Epoch 156/200\n",
      "6/6 [==============================] - 0s - loss: 0.3330 - acc: 0.8750\n",
      "Epoch 157/200\n",
      "6/6 [==============================] - 0s - loss: 0.2050 - acc: 0.9167\n",
      "Epoch 158/200\n",
      "6/6 [==============================] - 0s - loss: 0.4335 - acc: 0.7917\n",
      "Epoch 159/200\n",
      "6/6 [==============================] - 0s - loss: 0.1400 - acc: 0.9583\n",
      "Epoch 160/200\n",
      "6/6 [==============================] - 0s - loss: 0.1732 - acc: 0.9583\n",
      "Epoch 161/200\n",
      "6/6 [==============================] - 0s - loss: 0.3680 - acc: 0.8333\n",
      "Epoch 162/200\n",
      "6/6 [==============================] - 0s - loss: 0.3031 - acc: 0.8750\n",
      "Epoch 163/200\n",
      "6/6 [==============================] - 0s - loss: 0.3462 - acc: 0.8750\n",
      "Epoch 164/200\n",
      "6/6 [==============================] - 0s - loss: 0.2014 - acc: 0.9583\n",
      "Epoch 165/200\n",
      "6/6 [==============================] - 0s - loss: 0.1395 - acc: 1.0000\n",
      "Epoch 166/200\n",
      "6/6 [==============================] - 0s - loss: 0.2020 - acc: 0.9583\n",
      "Epoch 167/200\n",
      "6/6 [==============================] - 0s - loss: 0.3893 - acc: 0.8333\n",
      "Epoch 168/200\n",
      "6/6 [==============================] - 0s - loss: 0.3752 - acc: 0.8333\n",
      "Epoch 169/200\n",
      "6/6 [==============================] - 0s - loss: 0.3480 - acc: 0.8333\n",
      "Epoch 170/200\n",
      "6/6 [==============================] - 0s - loss: 0.5547 - acc: 0.7083\n",
      "Epoch 171/200\n",
      "6/6 [==============================] - 0s - loss: 0.2574 - acc: 0.8750\n",
      "Epoch 172/200\n",
      "6/6 [==============================] - 0s - loss: 0.1498 - acc: 1.0000\n",
      "Epoch 173/200\n",
      "6/6 [==============================] - 0s - loss: 0.3062 - acc: 0.8333\n",
      "Epoch 174/200\n",
      "6/6 [==============================] - 0s - loss: 0.1439 - acc: 0.9583\n",
      "Epoch 175/200\n",
      "6/6 [==============================] - 0s - loss: 0.1329 - acc: 0.9583\n",
      "Epoch 176/200\n",
      "6/6 [==============================] - 0s - loss: 0.1553 - acc: 1.0000\n",
      "Epoch 177/200\n",
      "6/6 [==============================] - 0s - loss: 0.1906 - acc: 0.9167\n",
      "Epoch 178/200\n",
      "6/6 [==============================] - 0s - loss: 0.1217 - acc: 1.0000\n",
      "Epoch 179/200\n",
      "6/6 [==============================] - 0s - loss: 0.1629 - acc: 1.0000\n",
      "Epoch 180/200\n",
      "6/6 [==============================] - 0s - loss: 0.2577 - acc: 0.8750\n",
      "Epoch 181/200\n",
      "6/6 [==============================] - 0s - loss: 0.2924 - acc: 0.8750\n",
      "Epoch 182/200\n",
      "6/6 [==============================] - 0s - loss: 0.2812 - acc: 0.8750\n",
      "Epoch 183/200\n",
      "6/6 [==============================] - 0s - loss: 0.3503 - acc: 0.8333\n",
      "Epoch 184/200\n",
      "6/6 [==============================] - 0s - loss: 0.2619 - acc: 0.9167\n",
      "Epoch 185/200\n",
      "6/6 [==============================] - 0s - loss: 0.1143 - acc: 1.0000\n",
      "Epoch 186/200\n",
      "6/6 [==============================] - 0s - loss: 0.1254 - acc: 1.0000\n",
      "Epoch 187/200\n",
      "6/6 [==============================] - 0s - loss: 0.1020 - acc: 1.0000\n",
      "Epoch 188/200\n",
      "6/6 [==============================] - 0s - loss: 0.1151 - acc: 1.0000\n",
      "Epoch 189/200\n",
      "6/6 [==============================] - 0s - loss: 0.1019 - acc: 1.0000\n",
      "Epoch 190/200\n",
      "6/6 [==============================] - 0s - loss: 0.2574 - acc: 0.9167\n",
      "Epoch 191/200\n",
      "6/6 [==============================] - 0s - loss: 0.2263 - acc: 0.9167\n",
      "Epoch 192/200\n",
      "6/6 [==============================] - 0s - loss: 0.0832 - acc: 1.0000\n",
      "Epoch 193/200\n",
      "6/6 [==============================] - 0s - loss: 0.4965 - acc: 0.7500\n",
      "Epoch 194/200\n",
      "6/6 [==============================] - 0s - loss: 0.1074 - acc: 1.0000\n",
      "Epoch 195/200\n",
      "6/6 [==============================] - 0s - loss: 0.0976 - acc: 1.0000\n",
      "Epoch 196/200\n",
      "6/6 [==============================] - 0s - loss: 0.0961 - acc: 1.0000\n",
      "Epoch 197/200\n",
      "6/6 [==============================] - 0s - loss: 0.1070 - acc: 1.0000\n",
      "Epoch 198/200\n",
      "6/6 [==============================] - 0s - loss: 0.3586 - acc: 0.8333\n",
      "Epoch 199/200\n",
      "6/6 [==============================] - 0s - loss: 0.2544 - acc: 0.9167\n",
      "Epoch 200/200\n",
      "6/6 [==============================] - 0s - loss: 0.0983 - acc: 1.0000\n",
      "Predicted classes: {} [1 2 3 2 3 1]\n",
      "Expected classes: {} [1 2 3 2 3 1]\n"
     ]
    }
   ],
   "source": [
    "from keras.preprocessing import sequence\n",
    "from keras.models import Sequential\n",
    "from keras.layers import Dense, Embedding\n",
    "from keras.layers import LSTM\n",
    "from keras.datasets import imdb\n",
    "import numpy as np\n",
    "\n",
    "max_features = 4 # 0,1,2,3 (total of 4)\n",
    "x = [\n",
    "    [[0],[1],[1],[0],[0],[0]],\n",
    "    [[0],[0],[0],[2],[2],[0]],\n",
    "    [[0],[0],[0],[0],[3],[3]],\n",
    "    [[0],[2],[2],[0],[0],[0]],\n",
    "    [[0],[0],[3],[3],[0],[0]],\n",
    "    [[0],[0],[0],[0],[1],[1]]\n",
    "]\n",
    "x = np.array(x,dtype=np.float32)\n",
    "y = np.array([1,2,3,2,3,1],dtype=np.int32)\n",
    "\n",
    "# Convert y2 to dummy variables\n",
    "y2 = np.zeros((y.shape[0], max_features),dtype=np.float32)\n",
    "y2[np.arange(y.shape[0]), y] = 1.0\n",
    "print(y2)\n",
    "\n",
    "print('Build model...')\n",
    "model = Sequential()\n",
    "model.add(LSTM(128, dropout=0.2, recurrent_dropout=0.2, input_dim=1))\n",
    "model.add(Dense(4, activation='sigmoid'))\n",
    "\n",
    "# try using different optimizers and different optimizer configs\n",
    "model.compile(loss='binary_crossentropy',\n",
    "              optimizer='adam',\n",
    "              metrics=['accuracy'])\n",
    "\n",
    "print('Train...')\n",
    "model.fit(x,y2,epochs=200)\n",
    "pred = model.predict(x)\n",
    "predict_classes = np.argmax(pred,axis=1)\n",
    "print(\"Predicted classes: {}\",predict_classes)\n",
    "print(\"Expected classes: {}\",predict_classes)"
   ]
  },
  {
   "cell_type": "code",
   "execution_count": 10,
   "metadata": {
    "collapsed": false
   },
   "outputs": [
    {
     "name": "stdout",
     "output_type": "stream",
     "text": [
      "3\n"
     ]
    }
   ],
   "source": [
    "def runit(model, inp):\n",
    "    inp = np.array(inp,dtype=np.float32)\n",
    "    pred = model.predict(inp)\n",
    "    return np.argmax(pred[0])\n",
    "\n",
    "print( runit( model, [[[0],[0],[0],[0],[3],[3]]] ))\n"
   ]
  },
  {
   "cell_type": "markdown",
   "metadata": {},
   "source": [
    "Accessing Stock Market Data in Python\n",
    "---------------------------------------\n",
    "\n",
    "Pandas provides the Datareader to access certian public data sources on the internet.  This allows stock quote information to be loaded from Yahoo finance into dataframes.  Unfortunatly, Yahoo broke this service in 2017 and damaged many examples programs in the process.  A long term fix has not yet been implemented (as of Fall semester 2017).  Details are provided here:\n",
    "\n",
    "* [Pandas Dataloader](https://pandas-datareader.readthedocs.io/en/latest/)\n",
    "* [Fix Yahoo for the Pandas Datareader](https://pypi.python.org/pypi/fix-yahoo-finance) **Temporary fix**\n",
    "\n",
    "To implement this fix, install the following:\n",
    "\n",
    "```\n",
    "pip install pandas-datareader\n",
    "pip install fix_yahoo_finance --upgrade --no-cache-dir\n",
    "```"
   ]
  },
  {
   "cell_type": "code",
   "execution_count": null,
   "metadata": {
    "collapsed": true
   },
   "outputs": [],
   "source": []
  },
  {
   "cell_type": "markdown",
   "metadata": {},
   "source": [
    "# Sun Spots Example\n",
    "\n",
    "An example of RNN regression to predict sunspots.  The data files needed for this example can be found at the following location.\n",
    "\n",
    "* [Sunspot Data Files](http://www.sidc.be/silso/datafiles#total)\n",
    "* [Download Daily Sunspots](http://www.sidc.be/silso/INFO/sndtotcsv.php) - 1/1/1818 to now.\n",
    "\n",
    "The following code is used to load the sunspot file:\n"
   ]
  },
  {
   "cell_type": "code",
   "execution_count": 11,
   "metadata": {
    "collapsed": false
   },
   "outputs": [
    {
     "name": "stdout",
     "output_type": "stream",
     "text": [
      "Starting file:\n",
      "   year  month  day  dec_year  sn_value  sn_error  obs_num\n",
      "0  1818      1    1  1818.001        -1       NaN        0\n",
      "1  1818      1    2  1818.004        -1       NaN        0\n",
      "2  1818      1    3  1818.007        -1       NaN        0\n",
      "3  1818      1    4  1818.010        -1       NaN        0\n",
      "4  1818      1    5  1818.012        -1       NaN        0\n",
      "5  1818      1    6  1818.015        -1       NaN        0\n",
      "6  1818      1    7  1818.018        -1       NaN        0\n",
      "7  1818      1    8  1818.021        65      10.2        1\n",
      "8  1818      1    9  1818.023        -1       NaN        0\n",
      "9  1818      1   10  1818.026        -1       NaN        0\n",
      "Ending file:\n",
      "       year  month  day  dec_year  sn_value  sn_error  obs_num\n",
      "72855  2017      6   21  2017.470        35       1.0       41\n",
      "72856  2017      6   22  2017.473        24       0.8       39\n",
      "72857  2017      6   23  2017.475        23       0.9       40\n",
      "72858  2017      6   24  2017.478        26       2.3       15\n",
      "72859  2017      6   25  2017.481        17       1.0       18\n",
      "72860  2017      6   26  2017.484        21       1.1       25\n",
      "72861  2017      6   27  2017.486        19       1.2       36\n",
      "72862  2017      6   28  2017.489        17       1.1       22\n",
      "72863  2017      6   29  2017.492        12       0.5       25\n",
      "72864  2017      6   30  2017.495        11       0.5       30\n"
     ]
    }
   ],
   "source": [
    "import pandas as pd\n",
    "import os\n",
    "\n",
    "# Replacce the following path with your own file. It can be downloaded from:\n",
    "# http://www.sidc.be/silso/INFO/sndtotcsv.php\n",
    "path = \"./data/\"\n",
    "    \n",
    "filename = os.path.join(path,\"SN_d_tot_V2.0.csv\")    \n",
    "names = ['year', 'month', 'day', 'dec_year', 'sn_value' , 'sn_error', 'obs_num']\n",
    "df = pd.read_csv(filename,sep=';',header=None,names=names,na_values=['-1'], index_col=False)\n",
    "\n",
    "print(\"Starting file:\")\n",
    "print(df[0:10])\n",
    "\n",
    "print(\"Ending file:\")\n",
    "print(df[-10:])"
   ]
  },
  {
   "cell_type": "markdown",
   "metadata": {},
   "source": [
    "As you can see, there is quite a bit of missing data near the end of the file.  We would like to find the starting index where the missing data no longer occurs.  This is somewhat sloppy, it would be better to find a use for the data between missing values.  However, the point of this example is show how to use LSTM with a somewhat simple time-series."
   ]
  },
  {
   "cell_type": "code",
   "execution_count": 12,
   "metadata": {
    "collapsed": false
   },
   "outputs": [
    {
     "name": "stdout",
     "output_type": "stream",
     "text": [
      "11314\n"
     ]
    }
   ],
   "source": [
    "start_id = max(df[df['obs_num'] == 0].index.tolist())+1  # Find the last zero and move one beyond\n",
    "print(start_id)\n",
    "df = df[start_id:] # Trim the rows that have missing observations"
   ]
  },
  {
   "cell_type": "code",
   "execution_count": 13,
   "metadata": {
    "collapsed": false
   },
   "outputs": [
    {
     "name": "stdout",
     "output_type": "stream",
     "text": [
      "Training set has 55160 observations.\n",
      "Test set has 6025 observations.\n"
     ]
    }
   ],
   "source": [
    "df_train = df[df['year']<2000]\n",
    "df_test = df[df['year']>2000]\n",
    "\n",
    "spots_train = df_train['sn_value'].tolist()\n",
    "spots_test = df_test['sn_value'].tolist()\n",
    "\n",
    "print(\"Training set has {} observations.\".format(len(spots_train)))\n",
    "print(\"Test set has {} observations.\".format(len(spots_test)))"
   ]
  },
  {
   "cell_type": "code",
   "execution_count": 14,
   "metadata": {
    "collapsed": false
   },
   "outputs": [
    {
     "name": "stdout",
     "output_type": "stream",
     "text": [
      "Shape of training set: (55149, 10, 1)\n",
      "Shape of test set: (6014, 10, 1)\n"
     ]
    }
   ],
   "source": [
    "import numpy as np\n",
    "\n",
    "def to_sequences(seq_size, obs):\n",
    "    x = []\n",
    "    y = []\n",
    "\n",
    "    for i in range(len(obs)-SEQUENCE_SIZE-1):\n",
    "        #print(i)\n",
    "        window = obs[i:(i+SEQUENCE_SIZE)]\n",
    "        after_window = obs[i+SEQUENCE_SIZE]\n",
    "        window = [[x] for x in window]\n",
    "        #print(\"{} - {}\".format(window,after_window))\n",
    "        x.append(window)\n",
    "        y.append(after_window)\n",
    "        \n",
    "    return np.array(x),np.array(y)\n",
    "    \n",
    "    \n",
    "SEQUENCE_SIZE = 10\n",
    "x_train,y_train = to_sequences(SEQUENCE_SIZE,spots_train)\n",
    "x_test,y_test = to_sequences(SEQUENCE_SIZE,spots_test)\n",
    "\n",
    "print(\"Shape of training set: {}\".format(x_train.shape))\n",
    "print(\"Shape of test set: {}\".format(x_test.shape))"
   ]
  },
  {
   "cell_type": "code",
   "execution_count": 15,
   "metadata": {
    "collapsed": false
   },
   "outputs": [
    {
     "name": "stdout",
     "output_type": "stream",
     "text": [
      "Build model...\n"
     ]
    },
    {
     "name": "stderr",
     "output_type": "stream",
     "text": [
      "C:\\Users\\jeffh\\Anaconda3\\envs\\wustl\\lib\\site-packages\\ipykernel_launcher.py:11: UserWarning: The `input_dim` and `input_length` arguments in recurrent layers are deprecated. Use `input_shape` instead.\n",
      "  # This is added back by InteractiveShellApp.init_path()\n",
      "C:\\Users\\jeffh\\Anaconda3\\envs\\wustl\\lib\\site-packages\\ipykernel_launcher.py:11: UserWarning: Update your `LSTM` call to the Keras 2 API: `LSTM(64, dropout=0.2, recurrent_dropout=0.2, input_shape=(None, 1))`\n",
      "  # This is added back by InteractiveShellApp.init_path()\n"
     ]
    },
    {
     "name": "stdout",
     "output_type": "stream",
     "text": [
      "Train...\n",
      "Train on 55149 samples, validate on 6014 samples\n",
      "Epoch 1/1000\n",
      "21s - loss: 7566.1022 - val_loss: 1550.4372\n",
      "Epoch 2/1000\n",
      "24s - loss: 2848.1052 - val_loss: 662.9171\n",
      "Epoch 3/1000\n",
      "24s - loss: 1572.9020 - val_loss: 566.1061\n",
      "Epoch 4/1000\n",
      "22s - loss: 1081.2054 - val_loss: 451.4031\n",
      "Epoch 5/1000\n",
      "19s - loss: 870.8543 - val_loss: 492.3299\n",
      "Epoch 6/1000\n",
      "19s - loss: 815.7297 - val_loss: 452.5698\n",
      "Epoch 7/1000\n",
      "18s - loss: 737.8819 - val_loss: 535.6916\n",
      "Epoch 8/1000\n",
      "19s - loss: 725.8371 - val_loss: 396.2988\n",
      "Epoch 9/1000\n",
      "24s - loss: 723.0969 - val_loss: 564.5152\n",
      "Epoch 10/1000\n",
      "25s - loss: 709.3675 - val_loss: 495.0632\n",
      "Epoch 11/1000\n",
      "22s - loss: 681.0504 - val_loss: 447.1441\n",
      "Epoch 12/1000\n",
      "23s - loss: 670.2768 - val_loss: 488.7995\n",
      "Epoch 13/1000\n",
      "20s - loss: 667.3128 - val_loss: 481.3431\n",
      "Epoch 14/1000\n",
      "22s - loss: 663.5031 - val_loss: 575.8397\n",
      "Epoch 00013: early stopping\n"
     ]
    },
    {
     "data": {
      "text/plain": [
       "<keras.callbacks.History at 0x28582e6de48>"
      ]
     },
     "execution_count": 15,
     "metadata": {},
     "output_type": "execute_result"
    }
   ],
   "source": [
    "from keras.preprocessing import sequence\n",
    "from keras.models import Sequential\n",
    "from keras.layers import Dense, Embedding\n",
    "from keras.layers import LSTM\n",
    "from keras.datasets import imdb\n",
    "from keras.callbacks import EarlyStopping\n",
    "import numpy as np\n",
    "\n",
    "print('Build model...')\n",
    "model = Sequential()\n",
    "model.add(LSTM(64, dropout=0.2, recurrent_dropout=0.2, input_dim=1))\n",
    "model.add(Dense(1))\n",
    "model.compile(loss='mean_squared_error', optimizer='adam')\n",
    "monitor = EarlyStopping(monitor='val_loss', min_delta=1e-3, patience=5, verbose=1, mode='auto')\n",
    "print('Train...')\n",
    "\n",
    "model.fit(x_train,y_train,validation_data=(x_test,y_test),callbacks=[monitor],verbose=2,epochs=1000)\n",
    "\n",
    "#model.fit(x,y2,epochs=200)\n",
    "#pred = model.predict(x)\n",
    "#predict_classes = np.argmax(pred,axis=1)\n",
    "#print(\"Predicted classes: {}\",predict_classes)\n",
    "#print(\"Expected classes: {}\",predict_classes)"
   ]
  },
  {
   "cell_type": "code",
   "execution_count": 16,
   "metadata": {
    "collapsed": false
   },
   "outputs": [
    {
     "name": "stdout",
     "output_type": "stream",
     "text": [
      "Score (RMSE): 23.9966603657646\n"
     ]
    }
   ],
   "source": [
    "from sklearn import metrics\n",
    "\n",
    "pred = model.predict(x_test)\n",
    "score = np.sqrt(metrics.mean_squared_error(pred,y_test))\n",
    "print(\"Score (RMSE): {}\".format(score))"
   ]
  },
  {
   "cell_type": "code",
   "execution_count": null,
   "metadata": {
    "collapsed": true
   },
   "outputs": [],
   "source": []
  }
 ],
 "metadata": {
  "anaconda-cloud": {},
  "kernelspec": {
   "display_name": "Python [default]",
   "language": "python",
   "name": "python3"
  },
  "language_info": {
   "codemirror_mode": {
    "name": "ipython",
    "version": 3
   },
   "file_extension": ".py",
   "mimetype": "text/x-python",
   "name": "python",
   "nbconvert_exporter": "python",
   "pygments_lexer": "ipython3",
   "version": "3.5.2"
  }
 },
 "nbformat": 4,
 "nbformat_minor": 1
}
